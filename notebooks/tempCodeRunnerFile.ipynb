from PyPDF2 import PdfReader

reader = PdfReader