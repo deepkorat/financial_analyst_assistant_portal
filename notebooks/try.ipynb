{
 "cells": [
  {
   "cell_type": "code",
   "execution_count": null,
   "metadata": {
    "vscode": {
     "languageId": "plaintext"
    }
   },
   "outputs": [],
   "source": [
    "import pandas as pd\n",
    "\n",
    "# Saving a DataFrame to a Feather file\n",
    "df.to_feather('data.feather')\n",
    "\n",
    "# Reading a Feather file into a DataFrame\n",
    "df = pd.read_feather('data.feather')"
   ]
  }
 ],
 "metadata": {
  "language_info": {
   "name": "python"
  }
 },
 "nbformat": 4,
 "nbformat_minor": 2
}
